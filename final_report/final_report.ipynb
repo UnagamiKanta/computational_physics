{
 "cells": [
  {
   "cell_type": "code",
   "execution_count": 2,
   "metadata": {},
   "outputs": [],
   "source": [
    "#数値計算ライブラリを追加\n",
    "using LinearAlgebra"
   ]
  },
  {
   "cell_type": "code",
   "execution_count": 3,
   "metadata": {},
   "outputs": [
    {
     "data": {
      "text/plain": [
       "78274.959"
      ]
     },
     "metadata": {},
     "output_type": "display_data"
    }
   ],
   "source": [
    "#各変数を宣言\n",
    "hc_mevfm = 197.327\n",
    "mαc2_mev = 3727.379\n",
    "e2       = 1.44\n",
    "Z        = 84\n",
    "Z_prime  = 82\n",
    "Zα       = 2\n",
    "V0_mev   = 50\n",
    "R_fm     = 8.0\n",
    "Δr_fm    = 0.5\n",
    "N        = 400\n",
    "cΔt_fm   = 0.2\n",
    "Nexp     = 4\n",
    "VB_mev       = mαc2_mev * Zα * Z / R_fm"
   ]
  },
  {
   "cell_type": "code",
   "execution_count": 4,
   "metadata": {},
   "outputs": [],
   "source": [
    "#Hswの作成\n",
    "Hsw = zeros(N,N)\n",
    "mom_coeff = - hc_mevfm^2 /(2 * mαc2_mev * Δr_fm^2)\n",
    "#対角成分の計算\n",
    "for i in 1:N\n",
    "    potential_term = (i * Δr_fm < R_fm) ? -V0_mev : VB_mev\n",
    "    Hsw[i,i] = -2 * mom_coeff + potential_term\n",
    "end\n",
    "\n",
    "#非対角成分の計算\n",
    "for i in 1:N-1\n",
    "    Hsw[i,i+1] = mom_coeff\n",
    "    Hsw[i+1,i] = mom_coeff\n",
    "end\n"
   ]
  },
  {
   "cell_type": "code",
   "execution_count": 5,
   "metadata": {},
   "outputs": [
    {
     "data": {
      "text/plain": [
       "Eigen{Float64, Float64, Matrix{Float64}, Vector{Float64}}\n",
       "values:\n",
       "400-element Vector{Float64}:\n",
       "   -49.197122703787045\n",
       "   -46.81934192440769\n",
       "   -42.95802585700406\n",
       "   -37.761549860348254\n",
       "   -31.42959642984127\n",
       "   -24.205483818280833\n",
       "   -16.366817760103906\n",
       "    -8.214825196897728\n",
       "    -0.062779605031551\n",
       "     7.776037465834868\n",
       "     ⋮\n",
       " 78358.41869212108\n",
       " 78358.44220063945\n",
       " 78358.46294711517\n",
       " 78358.480930174\n",
       " 78358.49614862475\n",
       " 78358.50860145933\n",
       " 78358.51828785286\n",
       " 78358.52520716372\n",
       " 78358.52935893359\n",
       "vectors:\n",
       "400×400 Matrix{Float64}:\n",
       " 0.0689732   0.135296    -0.19642    …   0.0          1.43189e-57\n",
       " 0.135296    0.249995    -0.326636       0.0         -5.37084e-54\n",
       " 0.196419    0.326636    -0.346759       0.0          2.01453e-50\n",
       " 0.249995    0.353551    -0.250008       0.0         -7.55626e-47\n",
       " 0.293963    0.326643    -0.0689904      0.0          2.83426e-43\n",
       " 0.326635    0.250008     0.13528    …   0.0         -1.06309e-39\n",
       " 0.346756    0.135313     0.293954       0.0          3.98753e-36\n",
       " 0.353551    1.80404e-5   0.353551       0.0         -1.49567e-32\n",
       " 0.346759   -0.135279     0.293983       0.0          5.61007e-29\n",
       " 0.326642   -0.249982     0.135328       0.0         -2.10427e-25\n",
       " ⋮                                   ⋱               \n",
       " 0.0         0.0          0.0           -0.0105075   -0.0052679\n",
       " 0.0         0.0          0.0            0.00934707   0.00468346\n",
       " 0.0         0.0          0.0           -0.00818411  -0.0040987\n",
       " 0.0         0.0          0.0            0.00701898   0.00351368\n",
       " 0.0         0.0          0.0        …  -0.00585199  -0.00292842\n",
       " 0.0         0.0          0.0            0.00468346   0.00234297\n",
       " 0.0         0.0          0.0           -0.00351368  -0.00175736\n",
       " 0.0         0.0          0.0            0.00234297   0.00117164\n",
       " 0.0         0.0          0.0           -0.00117164  -0.00058584"
      ]
     },
     "metadata": {},
     "output_type": "display_data"
    }
   ],
   "source": [
    "#Hswの対角化\n",
    "ϵ,ψ = eigen(Symmetric(Hsw))\n"
   ]
  },
  {
   "cell_type": "code",
   "execution_count": 6,
   "metadata": {},
   "outputs": [
    {
     "name": "stdout",
     "output_type": "stream",
     "text": [
      "Number of bound states: 6\n",
      "Energy eigenvalues: Any[7.776037465834868, 15.000376083851009, 21.33259610721292, 26.529338696730818, 30.39088077058456, 32.768812562671954]\n"
     ]
    }
   ],
   "source": [
    "#正のエネルギー固有値を持つ束縛状態の数をカウント\n",
    "count = 0\n",
    "energy_eigenvalues = []\n",
    "for i in 1:N\n",
    "    if VB_mev > ϵ[i] > 0\n",
    "        count += 1\n",
    "        push!(energy_eigenvalues,ϵ[i])\n",
    "    end\n",
    "end\n",
    "println(\"Number of bound states: \", count)\n",
    "println(\"Energy eigenvalues: \", energy_eigenvalues)"
   ]
  },
  {
   "cell_type": "code",
   "execution_count": 7,
   "metadata": {},
   "outputs": [],
   "source": [
    "#Hsw+cの作成\n",
    "Hsw_c = zeros(N,N)\n",
    "\n",
    "#Hswの作成\n",
    "Hsw = zeros(N,N)\n",
    "mom_coeff = - hc_mevfm^2 /(2 * mαc2_mev * Δr_fm^2)\n",
    "#対角成分の計算\n",
    "for i in 1:N\n",
    "    if i * Δr_fm < R_fm\n",
    "        potential_term = -V0_mev\n",
    "    else\n",
    "        potential_term = e2 * Z_prime * Z / (i * Δr_fm)\n",
    "        \n",
    "    end\n",
    "\n",
    "    Hsw[i,i] = -2 * mom_coeff + potential_term\n",
    "end\n",
    "\n",
    "#非対角成分の計算\n",
    "for i in 1:N-1\n",
    "    Hsw[i,i+1] = mom_coeff\n",
    "    Hsw[i+1,i] = mom_coeff\n",
    "end"
   ]
  },
  {
   "cell_type": "code",
   "execution_count": null,
   "metadata": {},
   "outputs": [
    {
     "data": {
      "text/plain": [
       "calc_next_evolution (generic function with 1 method)"
      ]
     },
     "metadata": {},
     "output_type": "display_data"
    }
   ],
   "source": [
    "function calc_next_evolution(ψ, H, N, cΔt_fm, Nexp)\n",
    "    ψ_next = zeros(N)\n",
    "    for k in 0:Nexp\n",
    "        ψ_next += 1/factorial(k) * (cΔt_fm / im / hc_mevfm)^k * (H^k * ψ)\n",
    "    end\n",
    "    return ψ_next\n",
    "end"
   ]
  },
  {
   "cell_type": "code",
   "execution_count": null,
   "metadata": {},
   "outputs": [
    {
     "name": "stdout",
     "output_type": "stream",
     "text": [
      "i: 0\n",
      "i: 1\n",
      "i: 2\n",
      "i: 3\n",
      "i: 4\n"
     ]
    }
   ],
   "source": [
    "function calc_time_evolution(ψ, H)"
   ]
  }
 ],
 "metadata": {
  "kernelspec": {
   "display_name": "Julia 1.11.2",
   "language": "julia",
   "name": "julia-1.11"
  },
  "language_info": {
   "file_extension": ".jl",
   "mimetype": "application/julia",
   "name": "julia",
   "version": "1.11.2"
  }
 },
 "nbformat": 4,
 "nbformat_minor": 2
}
