{
 "cells": [
  {
   "cell_type": "code",
   "execution_count": 1,
   "metadata": {},
   "outputs": [],
   "source": [
    "using Plots\n",
    "using Printf"
   ]
  },
  {
   "cell_type": "markdown",
   "metadata": {},
   "source": [
    "各数値を定義"
   ]
  },
  {
   "cell_type": "code",
   "execution_count": 2,
   "metadata": {},
   "outputs": [
    {
     "data": {
      "text/plain": [
       "1.0"
      ]
     },
     "metadata": {},
     "output_type": "display_data"
    }
   ],
   "source": [
    "g = 9.8\n",
    "m1 = 1.0\n",
    "m2 = 1.0\n",
    "l1 = 1.0\n",
    "l2 = 1.0"
   ]
  },
  {
   "cell_type": "markdown",
   "metadata": {},
   "source": [
    "力学的エネルギーを計算する関数の定義"
   ]
  },
  {
   "cell_type": "code",
   "execution_count": 3,
   "metadata": {},
   "outputs": [
    {
     "data": {
      "text/plain": [
       "calc_mechanical_energy (generic function with 1 method)"
      ]
     },
     "metadata": {},
     "output_type": "display_data"
    }
   ],
   "source": [
    "function  calc_mechanical_energy(y)\n",
    "    θ1, θ2, ω1, ω2 = y\n",
    "    return -m1 * g * l1 * cos(θ1) - m2 * g * ((l1 * cos(θ1)) + l2 * cos(θ2)) + 0.5 * m1 * l1^2 * ω1^2 + 0.5 * m2 * (l1^2 * ω1^2 + l2^2 * ω2^2 + 2 * l1 * l2 * ω1 * ω2 * cos(θ1 - θ2))\n",
    "end"
   ]
  },
  {
   "cell_type": "markdown",
   "metadata": {},
   "source": [
    "微分方程式を定義"
   ]
  },
  {
   "cell_type": "code",
   "execution_count": 4,
   "metadata": {},
   "outputs": [
    {
     "data": {
      "text/plain": [
       "pendulum_dynamics (generic function with 1 method)"
      ]
     },
     "metadata": {},
     "output_type": "display_data"
    }
   ],
   "source": [
    "function pendulum_dynamics(y, t)\n",
    "    θ1, θ2, ω1, ω2 = y\n",
    "    C = cos(θ1 - θ2)\n",
    "    S = sin(θ1 - θ2)\n",
    "    M = m1 + m2\n",
    "    θ1_dot = ω1\n",
    "    θ2_dot = ω2\n",
    "    ω1_dot = (g * (C * sin(θ2) - M * sin(θ1) / m2) - (l1 * C * ω1^2 + l2 * ω2^2) * S) / (l1 * (M / m2 - C^2))\n",
    "    ω2_dot = (g * (M / m2) * (C * sin(θ1) - sin(θ2)) + ((M / m2) * l1 * ω1^2 + l2 * ω2^2 * C) *S) / (l2 * (M / m2 - C^2))\n",
    "    return [θ1_dot, θ2_dot, ω1_dot, ω2_dot]\n",
    "end"
   ]
  },
  {
   "cell_type": "markdown",
   "metadata": {},
   "source": [
    "オイラー法"
   ]
  },
  {
   "cell_type": "code",
   "execution_count": 5,
   "metadata": {},
   "outputs": [
    {
     "data": {
      "text/plain": [
       "euler (generic function with 1 method)"
      ]
     },
     "metadata": {},
     "output_type": "display_data"
    }
   ],
   "source": [
    "function euler(f, y0, tspan, dt)\n",
    "    t0, tf = tspan\n",
    "    t = t0:dt:tf\n",
    "    y = zeros(length(t), length(y0))\n",
    "    y[1, :] = y0\n",
    "\n",
    "    for i = 1:length(t)-1\n",
    "        y[i+1, :] = y[i, :] + f(y[i, :], t[i]) * dt\n",
    "    end\n",
    "    \n",
    "    return t, y\n",
    "    \n",
    "end"
   ]
  },
  {
   "cell_type": "markdown",
   "metadata": {},
   "source": [
    "ルンゲクッタ法"
   ]
  },
  {
   "cell_type": "code",
   "execution_count": 6,
   "metadata": {},
   "outputs": [
    {
     "data": {
      "text/plain": [
       "runge_kutta (generic function with 1 method)"
      ]
     },
     "metadata": {},
     "output_type": "display_data"
    }
   ],
   "source": [
    "function runge_kutta(f, y0, tspan, dt)\n",
    "    t0, t_end = tspan\n",
    "    t = t0:dt:t_end\n",
    "    y = zeros(length(t), length(y0))\n",
    "    y[1, :] = y0\n",
    "\n",
    "    for i in 1:length(t) - 1\n",
    "        k1 = f(y[i, :], t[i])\n",
    "        k2 = f(y[i, :] + 0.5 * dt * k1, t[i] + 0.5 * dt)\n",
    "        k3 = f(y[i, :] + 0.5 * dt * k2, t[i] + 0.5 * dt)\n",
    "        k4 = f(y[i, :] + dt * k3, t[i] + dt)\n",
    "        y[i + 1, :] = y[i, :] + dt / 6 * (k1 + 2 * k2 + 2 * k3 + k4)\n",
    "    end\n",
    "\n",
    "    return t, y\n",
    "\n",
    "end"
   ]
  },
  {
   "cell_type": "markdown",
   "metadata": {},
   "source": [
    "初期条件"
   ]
  },
  {
   "cell_type": "code",
   "execution_count": 16,
   "metadata": {},
   "outputs": [
    {
     "data": {
      "text/plain": [
       "0.01"
      ]
     },
     "metadata": {},
     "output_type": "display_data"
    }
   ],
   "source": [
    "y0 = [π/4, 0.0, π/2, 0.0] # [θ1, ω1, θ2, ω2]\n",
    "tspan = (0.0, 1.0)\n",
    "dt = 0.01"
   ]
  },
  {
   "cell_type": "markdown",
   "metadata": {},
   "source": [
    "シミュレーション実行"
   ]
  },
  {
   "cell_type": "code",
   "execution_count": 17,
   "metadata": {},
   "outputs": [
    {
     "data": {
      "text/plain": [
       "(0.0:0.01:1.0, [0.7853981633974483 0.0 1.5707963267948966 0.0; 0.8006040686858401 0.00043715384933415685 1.4704837909105002 0.08685605997944415; … ; -0.31357650985203356 0.18289832733707095 0.8967604031056032 -4.420451311418229; -0.3039077591567242 0.13796904383878694 1.0366698750854648 -4.565098149126998])"
      ]
     },
     "metadata": {},
     "output_type": "display_data"
    }
   ],
   "source": [
    "t_euler, y_euler = euler(pendulum_dynamics, y0, tspan, dt)\n",
    "t_runge_kutta, y_runge_kutta = runge_kutta(pendulum_dynamics, y0, tspan, dt)"
   ]
  },
  {
   "cell_type": "markdown",
   "metadata": {},
   "source": [
    "誤差を計算"
   ]
  },
  {
   "cell_type": "code",
   "execution_count": 18,
   "metadata": {},
   "outputs": [
    {
     "data": {
      "text/plain": [
       "101-element Vector{Float64}:\n",
       " 0.0\n",
       " 1.28836674662125e-9\n",
       " 1.1036185298962664e-9\n",
       " 6.02895511292445e-11\n",
       " 1.8437980031649204e-9\n",
       " 3.989619301592029e-9\n",
       " 6.317623757468027e-9\n",
       " 8.7057117070799e-9\n",
       " 1.1075577788233204e-8\n",
       " 1.3382361885305727e-8\n",
       " ⋮\n",
       " 2.3295399742551126e-7\n",
       " 2.831456242802233e-7\n",
       " 3.5622488070430336e-7\n",
       " 4.5886342903145305e-7\n",
       " 5.972670642506728e-7\n",
       " 7.74315928708802e-7\n",
       " 9.84110556601081e-7\n",
       " 1.2031391882771914e-6\n",
       " 1.3788264041636467e-6"
      ]
     },
     "metadata": {},
     "output_type": "display_data"
    }
   ],
   "source": [
    "initial_energy = calc_mechanical_energy(y0)\n",
    "\n",
    "energy_euler = [calc_mechanical_energy(y) for y in eachrow(y_euler)]\n",
    "error_euler = [abs(energy - initial_energy) for energy in energy_euler]\n",
    "\n",
    "energy_runge_kutta = [calc_mechanical_energy(y) for y in eachrow(y_runge_kutta)]\n",
    "error_runge_kutta = [abs(energy - initial_energy) for energy in energy_runge_kutta]\n",
    "\n"
   ]
  },
  {
   "cell_type": "code",
   "execution_count": 14,
   "metadata": {},
   "outputs": [
    {
     "name": "stdout",
     "output_type": "stream",
     "text": [
      "6.136438592956651\n"
     ]
    }
   ],
   "source": [
    "println(maximum(error_euler))"
   ]
  },
  {
   "cell_type": "code",
   "execution_count": 20,
   "metadata": {},
   "outputs": [
    {
     "data": {
      "text/plain": [
       "\"c:\\\\numerical_calculation\\\\computational_physics\\\\first_report\\\\error_vs_time.png\""
      ]
     },
     "metadata": {},
     "output_type": "display_data"
    }
   ],
   "source": [
    "plot(\n",
    "    t_euler, error_euler, label=\"Euler\", xlabel=\"Time [s]\", ylabel=\"Error in Energy[J]\", \n",
    "    title=\"Error in Energy vs Time\", lw=2\n",
    ")\n",
    "plot!(\n",
    "    t_runge_kutta, error_runge_kutta, label=\"Runge-Kutta\", lw=2\n",
    ")\n",
    "savefig(\"error_vs_time.png\")\n",
    "\n"
   ]
  }
 ],
 "metadata": {
  "kernelspec": {
   "display_name": "Julia 1.11.2",
   "language": "julia",
   "name": "julia-1.11"
  },
  "language_info": {
   "file_extension": ".jl",
   "mimetype": "application/julia",
   "name": "julia",
   "version": "1.11.2"
  }
 },
 "nbformat": 4,
 "nbformat_minor": 2
}
